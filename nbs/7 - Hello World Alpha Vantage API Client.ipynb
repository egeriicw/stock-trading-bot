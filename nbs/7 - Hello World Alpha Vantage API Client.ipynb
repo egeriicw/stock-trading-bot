{
 "cells": [
  {
   "cell_type": "code",
   "execution_count": 1,
   "id": "8e6d8122-d2d9-44a4-aa5b-8a7b1c9eff54",
   "metadata": {},
   "outputs": [],
   "source": [
    "from decouple import config, AutoConfig"
   ]
  },
  {
   "cell_type": "code",
   "execution_count": 2,
   "id": "63702c3c-6ee5-400a-bc34-fd9a33dbaa9d",
   "metadata": {},
   "outputs": [],
   "source": [
    "config = AutoConfig(search_path='.')"
   ]
  },
  {
   "cell_type": "code",
   "execution_count": 3,
   "id": "6aa340de-a535-4e1c-bfc1-864228f0e7e9",
   "metadata": {},
   "outputs": [],
   "source": [
    "assert config(\"ALPHA_VANTAGE_API_KEY\", default=None, cast=str) is not None"
   ]
  },
  {
   "cell_type": "code",
   "execution_count": 4,
   "id": "7966bfc6-73ef-41f1-b1c1-ad6462fabcc3",
   "metadata": {},
   "outputs": [],
   "source": [
    "ALPHA_VANTAGE_API_KEY = config(\"ALPHA_VANTAGE_API_KEY\", default=None, cast=str)"
   ]
  },
  {
   "cell_type": "code",
   "execution_count": 5,
   "id": "511acd99-9153-48e4-baff-dbe907037fc8",
   "metadata": {},
   "outputs": [
    {
     "data": {
      "text/plain": [
       "'ANIJLNK3PVWBJLR6'"
      ]
     },
     "execution_count": 5,
     "metadata": {},
     "output_type": "execute_result"
    }
   ],
   "source": [
    "ALPHA_VANTAGE_API_KEY"
   ]
  },
  {
   "cell_type": "code",
   "execution_count": 6,
   "id": "d5e8e6c4-a614-4408-8ac6-69f78b17dec0",
   "metadata": {},
   "outputs": [],
   "source": [
    "# import requests\n",
    "\n",
    "# params = {\n",
    "#     \"api_key\" : ALPHA_VANTAGE_API_KEY,\n",
    "#     \"ticker\": \"AAPL\",\n",
    "#     \"function\": \"TIME_SERIES_INTRADAY\",\n",
    "#     \"interval\": \"5min\",\n",
    "# }\n",
    "\n",
    "# # replace the \"demo\" apikey below with your own key from https://www.alphavantage.co/support/#api-key\n",
    "# url = 'https://www.alphavantage.co/query?function={function}&symbol={ticker}&interval={interval}&apikey={api_key}'.format(\n",
    "#     **params\n",
    "# )\n",
    "\n",
    "# r = requests.get(url)\n",
    "# data = r.json()"
   ]
  },
  {
   "cell_type": "code",
   "execution_count": 7,
   "id": "6d0b5fc8-2c5c-4749-b4b4-b5989cf5e097",
   "metadata": {},
   "outputs": [],
   "source": [
    "# dataset_key = [x for x in list(data.keys()) if not x == \"Meta Data\"][0]"
   ]
  },
  {
   "cell_type": "code",
   "execution_count": 8,
   "id": "c558308f-171e-44b2-b7a8-2d9a538c0ef6",
   "metadata": {},
   "outputs": [],
   "source": [
    "# results = data[dataset_key]\n",
    "# print(results)"
   ]
  },
  {
   "cell_type": "code",
   "execution_count": 9,
   "id": "51cb2761-a96c-415f-8362-c04df8ea9336",
   "metadata": {},
   "outputs": [],
   "source": [
    "# timestamp_str = list(results.keys())[0]\n",
    "# timestamp_str"
   ]
  },
  {
   "cell_type": "code",
   "execution_count": 10,
   "id": "0d44e308-689f-4299-866a-25abd145db3a",
   "metadata": {},
   "outputs": [],
   "source": [
    "# result_val = results.get(timestamp_str)"
   ]
  },
  {
   "cell_type": "code",
   "execution_count": 11,
   "id": "b36b76a3-c402-4c68-95be-ac337eedc217",
   "metadata": {},
   "outputs": [],
   "source": [
    "# import pytz\n",
    "# from datetime import datetime\n",
    "# from decimal import Decimal\n",
    "\n",
    "# def transform_alpha_vantage_result(timestamp_str, result):\n",
    "#     timestamp_format = \"%Y-%m-%d %H:%M:%S\"\n",
    "#     eastern = pytz.timezone(\"US/Eastern\")\n",
    "#     utc = pytz.utc\n",
    "\n",
    "#     utc_timestamp = eastern.localize(datetime.strptime(timestamp_str, timestamp_format)).astimezone(utc)\n",
    "\n",
    "#     #unix_timestamp = result.get('t') / 1000.0\n",
    "#     #utc_timestamp = datetime.fromtimestamp(unix_timestamp, tz=pytz.timezone('UTC'))\n",
    "\n",
    "    \n",
    "#     return {\n",
    "#         'open_price': Decimal(result['1. open']),\n",
    "#         'close_price': Decimal(result['4. close']),\n",
    "#         'high_price': Decimal(result['2. high']),\n",
    "#         'low_price': Decimal(result['3. low']),\n",
    "#         'number_of_trades': None,\n",
    "#         'volume': int(result['5. volume']),\n",
    "#         'volume_weighted_average': None,\n",
    "#         'time': utc_timestamp,\n",
    "#     }"
   ]
  },
  {
   "cell_type": "code",
   "execution_count": 12,
   "id": "dda6c1b7-efd8-45bb-980b-e15988e1911e",
   "metadata": {},
   "outputs": [],
   "source": [
    "# transform_alpha_vantage_result(timestamp_str, result_val)"
   ]
  },
  {
   "cell_type": "code",
   "execution_count": 13,
   "id": "d09d796d-e895-4855-85ec-8659b0bdc59a",
   "metadata": {},
   "outputs": [],
   "source": [
    "# for timestamp_str in results.keys():\n",
    "#    new_data = transform_alpha_vantage_result(timestamp_str, results.get(timestamp_str))\n",
    "#    print(new_data)"
   ]
  },
  {
   "cell_type": "code",
   "execution_count": 14,
   "id": "a6ac62cd-d555-4553-8f7a-1be948e55172",
   "metadata": {},
   "outputs": [],
   "source": [
    "import pytz\n",
    "from typing import Literal\n",
    "from datetime import datetime\n",
    "from dataclasses import dataclass\n",
    "from decimal import Decimal\n",
    "from urllib.parse import urlencode\n",
    "import requests\n",
    "\n",
    "ALPHA_VANTAGE_API_KEY = config(\"ALPHA_VANTAGE_API_KEY\", default=None, cast=str)\n",
    "\n",
    "def transform_alpha_vantage_result(timestamp_str, result):\n",
    "    timestamp_format = \"%Y-%m-%d %H:%M:%S\"\n",
    "    eastern = pytz.timezone(\"US/Eastern\")\n",
    "    utc = pytz.utc\n",
    "\n",
    "    utc_timestamp = eastern.localize(datetime.strptime(timestamp_str, timestamp_format)).astimezone(utc)\n",
    "    \n",
    "    return {\n",
    "        'open_price': Decimal(result['1. open']),\n",
    "        'close_price': Decimal(result['4. close']),\n",
    "        'high_price': Decimal(result['2. high']),\n",
    "        'low_price': Decimal(result['3. low']),\n",
    "        'number_of_trades': None,\n",
    "        'volume': int(result['5. volume']),\n",
    "        'volume_weighted_average': None,\n",
    "        'time': utc_timestamp,\n",
    "    }\n",
    "\n",
    "@dataclass\n",
    "class AlphaVantageAPIClient:\n",
    "    ticker:str = \"AAPL\"\n",
    "    function: Literal[\"TIME_SERIES_INTRADAY\"] = \"TIME_SERIES_INTRADAY\"\n",
    "    interval: Literal[\"1min\", \"5min\", \"15min\", \"30min\", \"60min\"] = \"5min\"\n",
    "    month:str = \"2024-01\"\n",
    "    api_key:str = \"\"\n",
    "\n",
    "    def get_api_key(self):\n",
    "        return self.api_key or ALPHA_VANTAGE_API_KEY\n",
    "            \n",
    "    def get_params(self):\n",
    "        return {\n",
    "            \"apikey\": self.get_api_key(),\n",
    "            \"symbol\": self.ticker,\n",
    "            \"function\": self.function,\n",
    "            \"interval\": self.interval,\n",
    "            \"month\": self.month,\n",
    "        }\n",
    "    \n",
    "    def get_headers(self):\n",
    "        api_key = self.get_api_key()\n",
    "        return {}\n",
    "\n",
    "    def generate_url(self, pass_auth=False):\n",
    "        path = '/query'\n",
    "        url = f'https://www.alphavantage.co{path}'\n",
    "        params = self.get_params()\n",
    "        encoded_params = urlencode(params)\n",
    "        url = f\"{url}?{encoded_params}\"\n",
    "        if pass_auth:\n",
    "            api_key = self.get_api_key()\n",
    "            url += f\"&api_key={api_key}\"\n",
    "        return url\n",
    "\n",
    "    def fetch_data(self):\n",
    "        headers = self.get_headers()\n",
    "        url = self.generate_url()\n",
    "        response = requests.get(url, headers=headers)\n",
    "        response.raise_for_status() #not 200/201 status response\n",
    "        return response.json()\n",
    "\n",
    "    def get_stock_data(self):\n",
    "        data = self.fetch_data()\n",
    "        dataset_key = [x for x in list(data.keys()) if not x.lower() == \"meta data\"][0]\n",
    "        results = data[dataset_key]\n",
    "        dataset = []\n",
    "        for timestamp_str in results.keys():\n",
    "            dataset.append(\n",
    "                transform_alpha_vantage_result(timestamp_str, results.get(timestamp_str))\n",
    "            )\n",
    "        return dataset"
   ]
  },
  {
   "cell_type": "code",
   "execution_count": 15,
   "id": "b7b074c3-3cad-4a35-934c-0ee0a899ae7a",
   "metadata": {},
   "outputs": [
    {
     "ename": "NameError",
     "evalue": "name 'requests' is not defined",
     "output_type": "error",
     "traceback": [
      "\u001b[0;31m---------------------------------------------------------------------------\u001b[0m",
      "\u001b[0;31mNameError\u001b[0m                                 Traceback (most recent call last)",
      "Cell \u001b[0;32mIn[15], line 1\u001b[0m\n\u001b[0;32m----> 1\u001b[0m \u001b[43mAlphaVantageAPIClient\u001b[49m\u001b[43m(\u001b[49m\u001b[43m)\u001b[49m\u001b[38;5;241;43m.\u001b[39;49m\u001b[43mget_stock_data\u001b[49m\u001b[43m(\u001b[49m\u001b[43m)\u001b[49m\n",
      "Cell \u001b[0;32mIn[14], line 71\u001b[0m, in \u001b[0;36mAlphaVantageAPIClient.get_stock_data\u001b[0;34m(self)\u001b[0m\n\u001b[1;32m     70\u001b[0m \u001b[38;5;28;01mdef\u001b[39;00m \u001b[38;5;21mget_stock_data\u001b[39m(\u001b[38;5;28mself\u001b[39m):\n\u001b[0;32m---> 71\u001b[0m     data \u001b[38;5;241m=\u001b[39m \u001b[38;5;28;43mself\u001b[39;49m\u001b[38;5;241;43m.\u001b[39;49m\u001b[43mfetch_data\u001b[49m\u001b[43m(\u001b[49m\u001b[43m)\u001b[49m\n\u001b[1;32m     72\u001b[0m     dataset_key \u001b[38;5;241m=\u001b[39m [x \u001b[38;5;28;01mfor\u001b[39;00m x \u001b[38;5;129;01min\u001b[39;00m \u001b[38;5;28mlist\u001b[39m(data\u001b[38;5;241m.\u001b[39mkeys()) \u001b[38;5;28;01mif\u001b[39;00m \u001b[38;5;129;01mnot\u001b[39;00m x\u001b[38;5;241m.\u001b[39mlower() \u001b[38;5;241m==\u001b[39m \u001b[38;5;124m\"\u001b[39m\u001b[38;5;124mmeta data\u001b[39m\u001b[38;5;124m\"\u001b[39m][\u001b[38;5;241m0\u001b[39m]\n\u001b[1;32m     73\u001b[0m     results \u001b[38;5;241m=\u001b[39m data[dataset_key]\n",
      "Cell \u001b[0;32mIn[14], line 66\u001b[0m, in \u001b[0;36mAlphaVantageAPIClient.fetch_data\u001b[0;34m(self)\u001b[0m\n\u001b[1;32m     64\u001b[0m headers \u001b[38;5;241m=\u001b[39m \u001b[38;5;28mself\u001b[39m\u001b[38;5;241m.\u001b[39mget_headers()\n\u001b[1;32m     65\u001b[0m url \u001b[38;5;241m=\u001b[39m \u001b[38;5;28mself\u001b[39m\u001b[38;5;241m.\u001b[39mgenerate_url()\n\u001b[0;32m---> 66\u001b[0m response \u001b[38;5;241m=\u001b[39m \u001b[43mrequests\u001b[49m\u001b[38;5;241m.\u001b[39mget(url, headers\u001b[38;5;241m=\u001b[39mheaders)\n\u001b[1;32m     67\u001b[0m response\u001b[38;5;241m.\u001b[39mraise_for_status() \u001b[38;5;66;03m#not 200/201 status response\u001b[39;00m\n\u001b[1;32m     68\u001b[0m \u001b[38;5;28;01mreturn\u001b[39;00m response\u001b[38;5;241m.\u001b[39mjson()\n",
      "\u001b[0;31mNameError\u001b[0m: name 'requests' is not defined"
     ]
    }
   ],
   "source": [
    "AlphaVantageAPIClient().get_stock_data()"
   ]
  }
 ],
 "metadata": {
  "kernelspec": {
   "display_name": "Python 3 (ipykernel)",
   "language": "python",
   "name": "python3"
  },
  "language_info": {
   "codemirror_mode": {
    "name": "ipython",
    "version": 3
   },
   "file_extension": ".py",
   "mimetype": "text/x-python",
   "name": "python",
   "nbconvert_exporter": "python",
   "pygments_lexer": "ipython3",
   "version": "3.12.7"
  }
 },
 "nbformat": 4,
 "nbformat_minor": 5
}
