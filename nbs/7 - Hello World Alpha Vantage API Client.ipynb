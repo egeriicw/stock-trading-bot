{
 "cells": [
  {
   "cell_type": "code",
   "execution_count": 134,
   "id": "8e6d8122-d2d9-44a4-aa5b-8a7b1c9eff54",
   "metadata": {},
   "outputs": [],
   "source": [
    "from decouple import config, AutoConfig"
   ]
  },
  {
   "cell_type": "code",
   "execution_count": 135,
   "id": "63702c3c-6ee5-400a-bc34-fd9a33dbaa9d",
   "metadata": {},
   "outputs": [],
   "source": [
    "config = AutoConfig(search_path='.')"
   ]
  },
  {
   "cell_type": "code",
   "execution_count": 136,
   "id": "6aa340de-a535-4e1c-bfc1-864228f0e7e9",
   "metadata": {},
   "outputs": [],
   "source": [
    "assert config(\"ALPHA_VANTAGE_API_KEY\", default=None, cast=str) is not None"
   ]
  },
  {
   "cell_type": "code",
   "execution_count": 137,
   "id": "7966bfc6-73ef-41f1-b1c1-ad6462fabcc3",
   "metadata": {},
   "outputs": [],
   "source": [
    "ALPHA_VANTAGE_API_KEY = config(\"ALPHA_VANTAGE_API_KEY\", default=None, cast=str)"
   ]
  },
  {
   "cell_type": "code",
   "execution_count": 138,
   "id": "511acd99-9153-48e4-baff-dbe907037fc8",
   "metadata": {},
   "outputs": [
    {
     "data": {
      "text/plain": [
       "'ANIJLNK3PVWBJLR6'"
      ]
     },
     "execution_count": 138,
     "metadata": {},
     "output_type": "execute_result"
    }
   ],
   "source": [
    "ALPHA_VANTAGE_API_KEY"
   ]
  },
  {
   "cell_type": "code",
   "execution_count": 108,
   "id": "d5e8e6c4-a614-4408-8ac6-69f78b17dec0",
   "metadata": {},
   "outputs": [],
   "source": [
    "# import requests\n",
    "\n",
    "# params = {\n",
    "#     \"api_key\" : ALPHA_VANTAGE_API_KEY,\n",
    "#     \"ticker\": \"AAPL\",\n",
    "#     \"function\": \"TIME_SERIES_INTRADAY\",\n",
    "#     \"interval\": \"5min\",\n",
    "# }\n",
    "\n",
    "# # replace the \"demo\" apikey below with your own key from https://www.alphavantage.co/support/#api-key\n",
    "# url = 'https://www.alphavantage.co/query?function={function}&symbol={ticker}&interval={interval}&apikey={api_key}'.format(\n",
    "#     **params\n",
    "# )\n",
    "\n",
    "# r = requests.get(url)\n",
    "# data = r.json()"
   ]
  },
  {
   "cell_type": "code",
   "execution_count": 109,
   "id": "6d0b5fc8-2c5c-4749-b4b4-b5989cf5e097",
   "metadata": {},
   "outputs": [],
   "source": [
    "# dataset_key = [x for x in list(data.keys()) if not x == \"Meta Data\"][0]"
   ]
  },
  {
   "cell_type": "code",
   "execution_count": 110,
   "id": "c558308f-171e-44b2-b7a8-2d9a538c0ef6",
   "metadata": {},
   "outputs": [],
   "source": [
    "# results = data[dataset_key]\n",
    "# print(results)"
   ]
  },
  {
   "cell_type": "code",
   "execution_count": 111,
   "id": "51cb2761-a96c-415f-8362-c04df8ea9336",
   "metadata": {},
   "outputs": [],
   "source": [
    "# timestamp_str = list(results.keys())[0]\n",
    "# timestamp_str"
   ]
  },
  {
   "cell_type": "code",
   "execution_count": 112,
   "id": "0d44e308-689f-4299-866a-25abd145db3a",
   "metadata": {},
   "outputs": [],
   "source": [
    "# result_val = results.get(timestamp_str)"
   ]
  },
  {
   "cell_type": "code",
   "execution_count": 113,
   "id": "b36b76a3-c402-4c68-95be-ac337eedc217",
   "metadata": {},
   "outputs": [],
   "source": [
    "# import pytz\n",
    "# from datetime import datetime\n",
    "# from decimal import Decimal\n",
    "\n",
    "# def transform_alpha_vantage_result(timestamp_str, result):\n",
    "#     timestamp_format = \"%Y-%m-%d %H:%M:%S\"\n",
    "#     eastern = pytz.timezone(\"US/Eastern\")\n",
    "#     utc = pytz.utc\n",
    "\n",
    "#     utc_timestamp = eastern.localize(datetime.strptime(timestamp_str, timestamp_format)).astimezone(utc)\n",
    "\n",
    "#     #unix_timestamp = result.get('t') / 1000.0\n",
    "#     #utc_timestamp = datetime.fromtimestamp(unix_timestamp, tz=pytz.timezone('UTC'))\n",
    "\n",
    "    \n",
    "#     return {\n",
    "#         'open_price': Decimal(result['1. open']),\n",
    "#         'close_price': Decimal(result['4. close']),\n",
    "#         'high_price': Decimal(result['2. high']),\n",
    "#         'low_price': Decimal(result['3. low']),\n",
    "#         'number_of_trades': None,\n",
    "#         'volume': int(result['5. volume']),\n",
    "#         'volume_weighted_average': None,\n",
    "#         'time': utc_timestamp,\n",
    "#     }"
   ]
  },
  {
   "cell_type": "code",
   "execution_count": 114,
   "id": "dda6c1b7-efd8-45bb-980b-e15988e1911e",
   "metadata": {},
   "outputs": [],
   "source": [
    "# transform_alpha_vantage_result(timestamp_str, result_val)"
   ]
  },
  {
   "cell_type": "code",
   "execution_count": 116,
   "id": "d09d796d-e895-4855-85ec-8659b0bdc59a",
   "metadata": {},
   "outputs": [],
   "source": [
    "# for timestamp_str in results.keys():\n",
    "#    new_data = transform_alpha_vantage_result(timestamp_str, results.get(timestamp_str))\n",
    "#    print(new_data)"
   ]
  },
  {
   "cell_type": "code",
   "execution_count": null,
   "id": "a6ac62cd-d555-4553-8f7a-1be948e55172",
   "metadata": {},
   "outputs": [],
   "source": [
    "import pytz\n",
    "from typing import Literal\n",
    "from datetime import datetime\n",
    "from dataclasses import dataclass\n",
    "from decimal import Decimal\n",
    "from urllib.parse import urlencode\n",
    "\n",
    "ALPHA_VANTAGE_API_KEY = config(\"ALPHA_VANTAGE_API_KEY\", default=None, cast=str)\n",
    "\n",
    "def transform_alpha_vantage_result(timestamp_str, result):\n",
    "    timestamp_format = \"%Y-%m-%d %H:%M:%S\"\n",
    "    eastern = pytz.timezone(\"US/Eastern\")\n",
    "    utc = pytz.utc\n",
    "\n",
    "    utc_timestamp = eastern.localize(datetime.strptime(timestamp_str, timestamp_format)).astimezone(utc)\n",
    "    \n",
    "    return {\n",
    "        'open_price': Decimal(result['1. open']),\n",
    "        'close_price': Decimal(result['4. close']),\n",
    "        'high_price': Decimal(result['2. high']),\n",
    "        'low_price': Decimal(result['3. low']),\n",
    "        'number_of_trades': None,\n",
    "        'volume': int(result['5. volume']),\n",
    "        'volume_weighted_average': None,\n",
    "        'time': utc_timestamp,\n",
    "    }\n",
    "\n",
    "@dataclass\n",
    "class AlphaVantageAPIClient:\n",
    "    ticker:str = \"AAPL\"\n",
    "    function: Literal[\"TIME_SERIES_INTRADAY\"] = \"TIME_SERIES_INTRADAY\"\n",
    "    interval: Literal[\"1min\", \"5min\", \"15min\", \"30min\", \"60min\"] = \"5min\"\n",
    "    month:str = \"2024-01\"\n",
    "    api_key:str = \"\"\n",
    "\n",
    "    def get_api_key(self):\n",
    "        return self.api_key or ALPHA_VANTAGE_API_KEY\n",
    "            \n",
    "    def get_params(self):\n",
    "        return {\n",
    "            \"apikey\": self.get_api_key(),\n",
    "            \"symbol\": self.ticker,\n",
    "            \"function\": self.function,\n",
    "            \"interval\": self.interval,\n",
    "            \"month\": self.month,\n",
    "        }\n",
    "    \n",
    "    def get_headers(self):\n",
    "        api_key = self.get_api_key()\n",
    "        return {}\n",
    "\n",
    "    def generate_url(self, pass_auth=False):\n",
    "        path = '/query'\n",
    "        url = f'https://www.alphavantage.co{path}'\n",
    "        params = self.get_params()\n",
    "        encoded_params = urlencode(params)\n",
    "        url = f\"{url}?{encoded_params}\"\n",
    "        if pass_auth:\n",
    "            api_key = self.get_api_key()\n",
    "            url += f\"&api_key={api_key}\"\n",
    "        return url\n",
    "\n",
    "    def fetch_data(self):\n",
    "        headers = self.get_headers()\n",
    "        url = self.generate_url()\n",
    "        response = requests.get(url, headers=headers)\n",
    "        response.raise_for_status() #not 200/201 status response\n",
    "        return response.json()\n",
    "\n",
    "    def get_stock_data(self):\n",
    "        data = self.fetch_data()\n",
    "        dataset_key = [x for x in list(data.keys()) if not x.lower() == \"meta data\"][0]\n",
    "        results = data[dataset_key]\n",
    "        dataset = []\n",
    "        for timestamp_str in results.keys():\n",
    "            dataset.append(\n",
    "                transform_alpha_vantage_result(timestamp_str, results.get(timestamp_str))\n",
    "            )\n",
    "        return dataset"
   ]
  },
  {
   "cell_type": "code",
   "execution_count": 155,
   "id": "b7b074c3-3cad-4a35-934c-0ee0a899ae7a",
   "metadata": {},
   "outputs": [
    {
     "name": "stdout",
     "output_type": "stream",
     "text": [
      "{'2024-01-31 19:55:00': {'1. open': '184.5862', '2. high': '184.8648', '3. low': '184.5763', '4. close': '184.7753', '5. volume': '7522'}, '2024-01-31 19:50:00': {'1. open': '184.5962', '2. high': '184.6260', '3. low': '184.4966', '4. close': '184.5962', '5. volume': '3030'}, '2024-01-31 19:45:00': {'1. open': '184.6559', '2. high': '184.6559', '3. low': '184.5962', '4. close': '184.5962', '5. volume': '3449'}, '2024-01-31 19:40:00': {'1. open': '184.5862', '2. high': '184.6758', '3. low': '184.4966', '4. close': '184.6559', '5. volume': '1002'}, '2024-01-31 19:35:00': {'1. open': '184.6061', '2. high': '184.6658', '3. low': '184.4469', '4. close': '184.5464', '5. volume': '4995'}, '2024-01-31 19:30:00': {'1. open': '184.4961', '2. high': '184.6758', '3. low': '184.3971', '4. close': '184.6758', '5. volume': '3732'}, '2024-01-31 19:25:00': {'1. open': '184.3474', '2. high': '184.5464', '3. low': '184.3474', '4. close': '184.4469', '5. volume': '2533'}, '2024-01-31 19:20:00': {'1. open': '184.4369', '2. high': '184.5464', '3. low': '184.3474', '4. close': '184.5365', '5. volume': '1547'}, '2024-01-31 19:15:00': {'1. open': '184.4966', '2. high': '184.5365', '3. low': '184.2280', '4. close': '184.3573', '5. volume': '3927'}, '2024-01-31 19:10:00': {'1. open': '184.5066', '2. high': '184.5464', '3. low': '184.4867', '4. close': '184.5365', '5. volume': '2457'}, '2024-01-31 19:05:00': {'1. open': '184.4668', '2. high': '184.5265', '3. low': '184.4369', '4. close': '184.4867', '5. volume': '2776'}, '2024-01-31 19:00:00': {'1. open': '184.4767', '2. high': '184.5265', '3. low': '184.3175', '4. close': '184.4966', '5. volume': '2810'}, '2024-01-31 18:55:00': {'1. open': '184.5265', '2. high': '184.5365', '3. low': '184.2280', '4. close': '184.4767', '5. volume': '5184'}, '2024-01-31 18:50:00': {'1. open': '184.4170', '2. high': '184.5464', '3. low': '184.4071', '4. close': '184.4071', '5. volume': '5433'}, '2024-01-31 18:45:00': {'1. open': '184.3772', '2. high': '184.4767', '3. low': '184.2479', '4. close': '184.4071', '5. volume': '5408'}, '2024-01-31 18:40:00': {'1. open': '184.3971', '2. high': '184.4170', '3. low': '184.1384', '4. close': '184.3623', '5. volume': '1466'}, '2024-01-31 18:35:00': {'1. open': '184.4469', '2. high': '184.4767', '3. low': '184.3872', '4. close': '184.4021', '5. volume': '767'}, '2024-01-31 18:30:00': {'1. open': '184.3474', '2. high': '184.4966', '3. low': '184.3125', '4. close': '184.4767', '5. volume': '2910'}, '2024-01-31 18:25:00': {'1. open': '184.2578', '2. high': '184.3872', '3. low': '184.1583', '4. close': '184.3772', '5. volume': '2678'}, '2024-01-31 18:20:00': {'1. open': '184.2777', '2. high': '184.2777', '3. low': '183.5015', '4. close': '184.2081', '5. volume': '1777'}, '2024-01-31 18:15:00': {'1. open': '184.0886', '2. high': '184.2976', '3. low': '183.5015', '4. close': '184.2727', '5. volume': '4971'}, '2024-01-31 18:10:00': {'1. open': '184.1583', '2. high': '184.1782', '3. low': '183.9593', '4. close': '184.0837', '5. volume': '2953'}, '2024-01-31 18:05:00': {'1. open': '184.2479', '2. high': '184.3374', '3. low': '184.0986', '4. close': '184.1782', '5. volume': '1230'}, '2024-01-31 18:00:00': {'1. open': '184.2180', '2. high': '184.4568', '3. low': '184.1981', '4. close': '184.2926', '5. volume': '3778'}, '2024-01-31 17:55:00': {'1. open': '184.2714', '2. high': '184.2976', '3. low': '184.1085', '4. close': '184.1981', '5. volume': '547'}, '2024-01-31 17:50:00': {'1. open': '184.0488', '2. high': '184.3374', '3. low': '183.9493', '4. close': '184.2180', '5. volume': '2726'}, '2024-01-31 17:45:00': {'1. open': '184.3175', '2. high': '184.3872', '3. low': '183.8996', '4. close': '184.0638', '5. volume': '5466'}, '2024-01-31 17:40:00': {'1. open': '184.2976', '2. high': '184.3872', '3. low': '184.2777', '4. close': '184.3175', '5. volume': '3232'}, '2024-01-31 17:35:00': {'1. open': '184.2280', '2. high': '184.2976', '3. low': '184.1384', '4. close': '184.2976', '5. volume': '3787'}, '2024-01-31 17:30:00': {'1. open': '184.2479', '2. high': '184.2976', '3. low': '184.1185', '4. close': '184.2976', '5. volume': '2000'}, '2024-01-31 17:25:00': {'1. open': '184.0986', '2. high': '184.3573', '3. low': '184.0986', '4. close': '184.2976', '5. volume': '10881'}, '2024-01-31 17:20:00': {'1. open': '184.1185', '2. high': '184.1981', '3. low': '183.9692', '4. close': '184.1284', '5. volume': '3146'}, '2024-01-31 17:15:00': {'1. open': '184.0986', '2. high': '184.1384', '3. low': '183.9095', '4. close': '184.0439', '5. volume': '2103'}, '2024-01-31 17:10:00': {'1. open': '183.9991', '2. high': '184.1384', '3. low': '183.8996', '4. close': '184.1085', '5. volume': '11289'}, '2024-01-31 17:05:00': {'1. open': '184.0289', '2. high': '184.1384', '3. low': '183.8996', '4. close': '183.9097', '5. volume': '10651'}, '2024-01-31 17:00:00': {'1. open': '183.9692', '2. high': '184.1384', '3. low': '183.5015', '4. close': '184.0488', '5. volume': '202844'}, '2024-01-31 16:55:00': {'1. open': '183.8498', '2. high': '184.1384', '3. low': '183.6010', '4. close': '183.9991', '5. volume': '39932'}, '2024-01-31 16:50:00': {'1. open': '183.8996', '2. high': '186.9142', '3. low': '174.9000', '4. close': '183.8598', '5. volume': '24601'}, '2024-01-31 16:45:00': {'1. open': '184.1384', '2. high': '184.2976', '3. low': '183.7204', '4. close': '183.8996', '5. volume': '46165'}, '2024-01-31 16:40:00': {'1. open': '184.6957', '2. high': '184.7454', '3. low': '183.5015', '4. close': '184.1085', '5. volume': '151294'}, '2024-01-31 16:35:00': {'1. open': '184.6260', '2. high': '184.7852', '3. low': '184.5365', '4. close': '184.7355', '5. volume': '32125'}, '2024-01-31 16:30:00': {'1. open': '184.6857', '2. high': '184.7952', '3. low': '184.6161', '4. close': '184.6210', '5. volume': '11373'}, '2024-01-31 16:25:00': {'1. open': '184.8449', '2. high': '184.9146', '3. low': '184.6260', '4. close': '184.6658', '5. volume': '12453'}, '2024-01-31 16:20:00': {'1. open': '184.6977', '2. high': '184.9445', '3. low': '183.5015', '4. close': '184.8648', '5. volume': '39852'}, '2024-01-31 16:15:00': {'1. open': '184.9245', '2. high': '185.0241', '3. low': '183.5015', '4. close': '184.7056', '5. volume': '33294'}, '2024-01-31 16:10:00': {'1. open': '184.9445', '2. high': '185.4868', '3. low': '183.5015', '4. close': '184.9843', '5. volume': '266437'}, '2024-01-31 16:05:00': {'1. open': '184.5962', '2. high': '184.9942', '3. low': '183.5015', '4. close': '184.9445', '5. volume': '358768'}, '2024-01-31 16:00:00': {'1. open': '183.5413', '2. high': '184.7902', '3. low': '182.9243', '4. close': '184.6310', '5. volume': '20759032'}, '2024-01-31 15:55:00': {'1. open': '184.1235', '2. high': '184.3573', '3. low': '183.4518', '4. close': '183.4617', '5. volume': '2580990'}, '2024-01-31 15:50:00': {'1. open': '184.2976', '2. high': '184.3573', '3. low': '183.8399', '4. close': '184.1235', '5. volume': '1644498'}, '2024-01-31 15:45:00': {'1. open': '184.2081', '2. high': '184.4170', '3. low': '184.2081', '4. close': '184.2877', '5. volume': '641584'}, '2024-01-31 15:40:00': {'1. open': '184.4121', '2. high': '184.5066', '3. low': '184.2031', '4. close': '184.2130', '5. volume': '442668'}, '2024-01-31 15:35:00': {'1. open': '184.2081', '2. high': '184.4468', '3. low': '184.1085', '4. close': '184.4170', '5. volume': '550001'}, '2024-01-31 15:30:00': {'1. open': '184.6161', '2. high': '184.6844', '3. low': '184.1185', '4. close': '184.2163', '5. volume': '569090'}, '2024-01-31 15:25:00': {'1. open': '184.4071', '2. high': '184.7454', '3. low': '184.2976', '4. close': '184.6161', '5. volume': '441264'}, '2024-01-31 15:20:00': {'1. open': '184.1882', '2. high': '184.6260', '3. low': '184.1334', '4. close': '184.4120', '5. volume': '566243'}, '2024-01-31 15:15:00': {'1. open': '184.5962', '2. high': '184.6857', '3. low': '184.1583', '4. close': '184.1583', '5. volume': '494851'}, '2024-01-31 15:10:00': {'1. open': '184.6161', '2. high': '184.8151', '3. low': '184.3673', '4. close': '184.6011', '5. volume': '445556'}, '2024-01-31 15:05:00': {'1. open': '184.4170', '2. high': '184.7056', '3. low': '184.1683', '4. close': '184.6210', '5. volume': '732235'}, '2024-01-31 15:00:00': {'1. open': '185.0738', '2. high': '185.1236', '3. low': '184.2479', '4. close': '184.4146', '5. volume': '771096'}, '2024-01-31 14:55:00': {'1. open': '185.2231', '2. high': '185.3950', '3. low': '185.0042', '4. close': '185.0639', '5. volume': '415135'}, '2024-01-31 14:50:00': {'1. open': '185.5624', '2. high': '185.6311', '3. low': '185.0241', '4. close': '185.2231', '5. volume': '458345'}, '2024-01-31 14:45:00': {'1. open': '185.7654', '2. high': '186.0291', '3. low': '185.5316', '4. close': '185.5614', '5. volume': '571896'}, '2024-01-31 14:40:00': {'1. open': '185.5216', '2. high': '185.8799', '3. low': '185.4221', '4. close': '185.7536', '5. volume': '664308'}, '2024-01-31 14:35:00': {'1. open': '184.9693', '2. high': '185.6112', '3. low': '184.5564', '4. close': '185.4954', '5. volume': '717550'}, '2024-01-31 14:30:00': {'1. open': '184.7653', '2. high': '185.0838', '3. low': '184.6360', '4. close': '184.9644', '5. volume': '429403'}, '2024-01-31 14:25:00': {'1. open': '184.6459', '2. high': '184.8449', '3. low': '184.6061', '4. close': '184.7653', '5. volume': '268251'}, '2024-01-31 14:20:00': {'1. open': '184.6708', '2. high': '184.7156', '3. low': '184.5428', '4. close': '184.6509', '5. volume': '394210'}, '2024-01-31 14:15:00': {'1. open': '184.9743', '2. high': '184.9793', '3. low': '184.6061', '4. close': '184.6559', '5. volume': '393155'}, '2024-01-31 14:10:00': {'1. open': '184.8847', '2. high': '185.0838', '3. low': '184.7494', '4. close': '184.9743', '5. volume': '449377'}, '2024-01-31 14:05:00': {'1. open': '184.6957', '2. high': '185.0241', '3. low': '184.6857', '4. close': '184.8549', '5. volume': '401442'}, '2024-01-31 14:00:00': {'1. open': '185.2629', '2. high': '185.4122', '3. low': '184.3573', '4. close': '184.7056', '5. volume': '759187'}, '2024-01-31 13:55:00': {'1. open': '185.4719', '2. high': '185.4719', '3. low': '185.1932', '4. close': '185.2728', '5. volume': '314801'}, '2024-01-31 13:50:00': {'1. open': '185.6211', '2. high': '185.6211', '3. low': '185.4569', '4. close': '185.4719', '5. volume': '270044'}, '2024-01-31 13:45:00': {'1. open': '185.4321', '2. high': '185.6112', '3. low': '185.4023', '4. close': '185.6112', '5. volume': '325407'}, '2024-01-31 13:40:00': {'1. open': '185.2927', '2. high': '185.4221', '3. low': '185.2628', '4. close': '185.4122', '5. volume': '294038'}, '2024-01-31 13:35:00': {'1. open': '185.3624', '2. high': '185.4420', '3. low': '185.2828', '4. close': '185.2927', '5. volume': '230782'}, '2024-01-31 13:30:00': {'1. open': '185.2629', '2. high': '185.4520', '3. low': '185.2462', '4. close': '185.3624', '5. volume': '282354'}, '2024-01-31 13:25:00': {'1. open': '185.1883', '2. high': '185.2629', '3. low': '185.1813', '4. close': '185.2529', '5. volume': '168237'}, '2024-01-31 13:20:00': {'1. open': '185.4122', '2. high': '185.4420', '3. low': '185.1684', '4. close': '185.1833', '5. volume': '290350'}, '2024-01-31 13:15:00': {'1. open': '185.2878', '2. high': '185.4321', '3. low': '185.2728', '4. close': '185.4022', '5. volume': '293813'}, '2024-01-31 13:10:00': {'1. open': '185.3425', '2. high': '185.3724', '3. low': '185.2330', '4. close': '185.2828', '5. volume': '281252'}, '2024-01-31 13:05:00': {'1. open': '185.4640', '2. high': '185.5266', '3. low': '185.3223', '4. close': '185.3525', '5. volume': '240312'}, '2024-01-31 13:00:00': {'1. open': '185.4221', '2. high': '185.5316', '3. low': '185.4171', '4. close': '185.4718', '5. volume': '267931'}, '2024-01-31 12:55:00': {'1. open': '185.3664', '2. high': '185.4321', '3. low': '185.2480', '4. close': '185.4171', '5. volume': '271164'}, '2024-01-31 12:50:00': {'1. open': '185.1236', '2. high': '185.4022', '3. low': '185.1236', '4. close': '185.3654', '5. volume': '308564'}, '2024-01-31 12:45:00': {'1. open': '185.1286', '2. high': '185.1932', '3. low': '185.0042', '4. close': '185.1236', '5. volume': '306057'}, '2024-01-31 12:40:00': {'1. open': '184.9942', '2. high': '185.2032', '3. low': '184.9644', '4. close': '185.1318', '5. volume': '247575'}, '2024-01-31 12:35:00': {'1. open': '185.1769', '2. high': '185.2728', '3. low': '184.9278', '4. close': '185.0042', '5. volume': '328462'}, '2024-01-31 12:30:00': {'1. open': '185.1733', '2. high': '185.2430', '3. low': '185.0838', '4. close': '185.1783', '5. volume': '293372'}, '2024-01-31 12:25:00': {'1. open': '185.0191', '2. high': '185.2032', '3. low': '185.0056', '4. close': '185.1833', '5. volume': '280847'}, '2024-01-31 12:20:00': {'1. open': '184.9955', '2. high': '186.0888', '3. low': '184.9395', '4. close': '185.0141', '5. volume': '252148'}, '2024-01-31 12:15:00': {'1. open': '185.0589', '2. high': '185.0738', '3. low': '184.9245', '4. close': '184.9992', '5. volume': '513469'}, '2024-01-31 12:10:00': {'1. open': '185.0241', '2. high': '185.0639', '3. low': '184.9544', '4. close': '185.0440', '5. volume': '303510'}, '2024-01-31 12:05:00': {'1. open': '184.8847', '2. high': '185.0440', '3. low': '184.8051', '4. close': '185.0154', '5. volume': '266737'}, '2024-01-31 12:00:00': {'1. open': '184.7803', '2. high': '184.9146', '3. low': '184.7075', '4. close': '184.8947', '5. volume': '269513'}, '2024-01-31 11:55:00': {'1. open': '184.6625', '2. high': '184.9544', '3. low': '184.6559', '4. close': '184.7803', '5. volume': '285521'}, '2024-01-31 11:50:00': {'1. open': '184.6459', '2. high': '184.7305', '3. low': '184.5165', '4. close': '184.6559', '5. volume': '279867'}, '2024-01-31 11:45:00': {'1. open': '184.7205', '2. high': '184.8051', '3. low': '184.5962', '4. close': '184.6409', '5. volume': '327291'}, '2024-01-31 11:40:00': {'1. open': '184.6658', '2. high': '184.7454', '3. low': '184.5414', '4. close': '184.7203', '5. volume': '275619'}}\n",
      "2024-01-31 19:55:00 [{'open_price': Decimal('184.5862'), 'close_price': Decimal('184.7753'), 'high_price': Decimal('184.8648'), 'low_price': Decimal('184.5763'), 'number_of_trades': None, 'volume': 7522, 'volume_weighted_average': None, 'time': datetime.datetime(2024, 2, 1, 0, 55, tzinfo=<UTC>)}]\n"
     ]
    },
    {
     "data": {
      "text/plain": [
       "[{'open_price': Decimal('184.5862'),\n",
       "  'close_price': Decimal('184.7753'),\n",
       "  'high_price': Decimal('184.8648'),\n",
       "  'low_price': Decimal('184.5763'),\n",
       "  'number_of_trades': None,\n",
       "  'volume': 7522,\n",
       "  'volume_weighted_average': None,\n",
       "  'time': datetime.datetime(2024, 2, 1, 0, 55, tzinfo=<UTC>)}]"
      ]
     },
     "execution_count": 155,
     "metadata": {},
     "output_type": "execute_result"
    }
   ],
   "source": [
    "AlphaVantageAPIClient().get_stock_data()"
   ]
  }
 ],
 "metadata": {
  "kernelspec": {
   "display_name": "venv",
   "language": "python",
   "name": "python3"
  },
  "language_info": {
   "codemirror_mode": {
    "name": "ipython",
    "version": 3
   },
   "file_extension": ".py",
   "mimetype": "text/x-python",
   "name": "python",
   "nbconvert_exporter": "python",
   "pygments_lexer": "ipython3",
   "version": "3.12.7"
  }
 },
 "nbformat": 4,
 "nbformat_minor": 5
}
