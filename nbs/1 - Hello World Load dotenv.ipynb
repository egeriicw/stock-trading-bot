{
 "cells": [
  {
   "cell_type": "code",
   "execution_count": 4,
   "id": "8e6d8122-d2d9-44a4-aa5b-8a7b1c9eff54",
   "metadata": {},
   "outputs": [],
   "source": [
    "from decouple import config, AutoConfig"
   ]
  },
  {
   "cell_type": "code",
   "execution_count": 5,
   "id": "63702c3c-6ee5-400a-bc34-fd9a33dbaa9d",
   "metadata": {},
   "outputs": [],
   "source": [
    "config = AutoConfig(search_path='.')"
   ]
  },
  {
   "cell_type": "code",
   "execution_count": 7,
   "id": "81ebb8fb-2db2-475f-a44a-9fb8f5f2d8fd",
   "metadata": {},
   "outputs": [],
   "source": [
    "assert config(\"POLYGON_API_KEY\", default=None, cast=str) is not None"
   ]
  },
  {
   "cell_type": "code",
   "execution_count": null,
   "id": "6aa340de-a535-4e1c-bfc1-864228f0e7e9",
   "metadata": {},
   "outputs": [],
   "source": [
    "assert config(\"ALPHA_VANTAGE_API_KEY\", default=None, cast=str) is not None"
   ]
  },
  {
   "cell_type": "code",
   "execution_count": null,
   "id": "7966bfc6-73ef-41f1-b1c1-ad6462fabcc3",
   "metadata": {},
   "outputs": [],
   "source": [
    "ALPHA_VANTAGE_API_KEY = config(\"ALPHA_VANTAGE_API_KEY\", default=None, cast=str)"
   ]
  },
  {
   "cell_type": "code",
   "execution_count": 10,
   "id": "3fc2ed63-273c-4683-853d-145b05d6ecba",
   "metadata": {},
   "outputs": [],
   "source": [
    "POLYGON_API_KEY = config(\"POLYGON_API_KEY\", default=None, cast=str)"
   ]
  },
  {
   "cell_type": "code",
   "execution_count": null,
   "id": "90ad4efe-1ee0-4f83-a043-414d794758c6",
   "metadata": {},
   "outputs": [],
   "source": [
    "ALPHA_VANTAGE_API_KEY"
   ]
  }
 ],
 "metadata": {
  "kernelspec": {
   "display_name": "Python 3 (ipykernel)",
   "language": "python",
   "name": "python3"
  },
  "language_info": {
   "codemirror_mode": {
    "name": "ipython",
    "version": 3
   },
   "file_extension": ".py",
   "mimetype": "text/x-python",
   "name": "python",
   "nbconvert_exporter": "python",
   "pygments_lexer": "ipython3",
   "version": "3.12.7"
  }
 },
 "nbformat": 4,
 "nbformat_minor": 5
}
