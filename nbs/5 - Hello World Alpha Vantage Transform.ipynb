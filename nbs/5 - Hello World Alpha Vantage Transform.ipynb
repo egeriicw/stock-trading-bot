{
 "cells": [
  {
   "cell_type": "code",
   "execution_count": 1,
   "id": "8e6d8122-d2d9-44a4-aa5b-8a7b1c9eff54",
   "metadata": {},
   "outputs": [],
   "source": [
    "from decouple import config, AutoConfig"
   ]
  },
  {
   "cell_type": "code",
   "execution_count": 2,
   "id": "63702c3c-6ee5-400a-bc34-fd9a33dbaa9d",
   "metadata": {},
   "outputs": [],
   "source": [
    "config = AutoConfig(search_path='.')"
   ]
  },
  {
   "cell_type": "code",
   "execution_count": 3,
   "id": "6aa340de-a535-4e1c-bfc1-864228f0e7e9",
   "metadata": {},
   "outputs": [],
   "source": [
    "assert config(\"ALPHA_VANTAGE_API_KEY\", default=None, cast=str) is not None"
   ]
  },
  {
   "cell_type": "code",
   "execution_count": 4,
   "id": "7966bfc6-73ef-41f1-b1c1-ad6462fabcc3",
   "metadata": {},
   "outputs": [],
   "source": [
    "ALPHA_VANTAGE_API_KEY = config(\"ALPHA_VANTAGE_API_KEY\", default=None, cast=str)"
   ]
  },
  {
   "cell_type": "code",
   "execution_count": 5,
   "id": "90ad4efe-1ee0-4f83-a043-414d794758c6",
   "metadata": {},
   "outputs": [
    {
     "data": {
      "text/plain": [
       "'JTTWOF0TPR4M84BG'"
      ]
     },
     "execution_count": 5,
     "metadata": {},
     "output_type": "execute_result"
    }
   ],
   "source": [
    "ALPHA_VANTAGE_API_KEY"
   ]
  },
  {
   "cell_type": "code",
   "execution_count": 6,
   "id": "d5e8e6c4-a614-4408-8ac6-69f78b17dec0",
   "metadata": {},
   "outputs": [],
   "source": [
    "import requests\n",
    "\n",
    "params = {\n",
    "    \"api_key\" : ALPHA_VANTAGE_API_KEY,\n",
    "    \"ticker\": \"AAPL\",\n",
    "    \"function\": \"TIME_SERIES_INTRADAY\",\n",
    "    \"interval\": \"5min\",\n",
    "}\n",
    "\n",
    "# replace the \"demo\" apikey below with your own key from https://www.alphavantage.co/support/#api-key\n",
    "url = 'https://www.alphavantage.co/query?function={function}&symbol={ticker}&interval={interval}&apikey={api_key}'.format(\n",
    "    **params\n",
    ")\n",
    "\n",
    "r = requests.get(url)\n",
    "data = r.json()"
   ]
  },
  {
   "cell_type": "code",
   "execution_count": 17,
   "id": "6d0b5fc8-2c5c-4749-b4b4-b5989cf5e097",
   "metadata": {},
   "outputs": [],
   "source": [
    "dataset_key = [x for x in list(data.keys()) if not x == \"Meta Data\"][0]"
   ]
  },
  {
   "cell_type": "code",
   "execution_count": 19,
   "id": "c558308f-171e-44b2-b7a8-2d9a538c0ef6",
   "metadata": {},
   "outputs": [],
   "source": [
    "results = data[dataset_key]"
   ]
  },
  {
   "cell_type": "code",
   "execution_count": 25,
   "id": "51cb2761-a96c-415f-8362-c04df8ea9336",
   "metadata": {},
   "outputs": [
    {
     "data": {
      "text/plain": [
       "'2024-11-29 16:55:00'"
      ]
     },
     "execution_count": 25,
     "metadata": {},
     "output_type": "execute_result"
    }
   ],
   "source": [
    "timestamp_str = list(results.keys())[0]\n",
    "timestamp_str"
   ]
  },
  {
   "cell_type": "code",
   "execution_count": 38,
   "id": "0d44e308-689f-4299-866a-25abd145db3a",
   "metadata": {},
   "outputs": [],
   "source": [
    "result_val = results.get(timestamp_str)"
   ]
  },
  {
   "cell_type": "code",
   "execution_count": 41,
   "id": "b36b76a3-c402-4c68-95be-ac337eedc217",
   "metadata": {},
   "outputs": [],
   "source": [
    "import pytz\n",
    "from datetime import datetime\n",
    "from decimal import Decimal\n",
    "\n",
    "def transform_alpha_vantage_result(timestamp_str, result):\n",
    "    timestamp_format = \"%Y-%m-%d %H:%M:%S\"\n",
    "    eastern = pytz.timezone(\"US/Eastern\")\n",
    "    utc = pytz.utc\n",
    "\n",
    "    utc_timestamp = eastern.localize(datetime.strptime(timestamp_str, timestamp_format)).astimezone(utc)\n",
    "\n",
    "    #unix_timestamp = result.get('t') / 1000.0\n",
    "    #utc_timestamp = datetime.fromtimestamp(unix_timestamp, tz=pytz.timezone('UTC'))\n",
    "\n",
    "    \n",
    "    return {\n",
    "        'open_price': Decimal(result['1. open']),\n",
    "        'close_price': Decimal(result['4. close']),\n",
    "        'high_price': Decimal(result['2. high']),\n",
    "        'low_price': Decimal(result['3. low']),\n",
    "        'number_of_trades': None,\n",
    "        'volume': int(result['5. volume']),\n",
    "        'volume_weighted_average': None,\n",
    "        'time': utc_timestamp,\n",
    "    }"
   ]
  },
  {
   "cell_type": "code",
   "execution_count": 43,
   "id": "dda6c1b7-efd8-45bb-980b-e15988e1911e",
   "metadata": {},
   "outputs": [
    {
     "data": {
      "text/plain": [
       "{'open_price': Decimal('237.3700'),\n",
       " 'close_price': Decimal('237.4450'),\n",
       " 'high_price': Decimal('237.4900'),\n",
       " 'low_price': Decimal('237.3000'),\n",
       " 'number_of_trades': None,\n",
       " 'volume': 6979,\n",
       " 'volume_weighted_average': None,\n",
       " 'time': datetime.datetime(2024, 11, 29, 21, 55, tzinfo=<UTC>)}"
      ]
     },
     "execution_count": 43,
     "metadata": {},
     "output_type": "execute_result"
    }
   ],
   "source": [
    "transform_alpha_vantage_result(timestamp_str, result_val)"
   ]
  },
  {
   "cell_type": "code",
   "execution_count": 44,
   "id": "d09d796d-e895-4855-85ec-8659b0bdc59a",
   "metadata": {},
   "outputs": [
    {
     "name": "stdout",
     "output_type": "stream",
     "text": [
      "{'open_price': Decimal('237.3700'), 'close_price': Decimal('237.4450'), 'high_price': Decimal('237.4900'), 'low_price': Decimal('237.3000'), 'number_of_trades': None, 'volume': 6979, 'volume_weighted_average': None, 'time': datetime.datetime(2024, 11, 29, 21, 55, tzinfo=<UTC>)}\n",
      "{'open_price': Decimal('237.3850'), 'close_price': Decimal('237.3250'), 'high_price': Decimal('237.4000'), 'low_price': Decimal('237.3000'), 'number_of_trades': None, 'volume': 7640, 'volume_weighted_average': None, 'time': datetime.datetime(2024, 11, 29, 21, 50, tzinfo=<UTC>)}\n",
      "{'open_price': Decimal('237.4994'), 'close_price': Decimal('237.4000'), 'high_price': Decimal('237.5000'), 'low_price': Decimal('237.3850'), 'number_of_trades': None, 'volume': 4280, 'volume_weighted_average': None, 'time': datetime.datetime(2024, 11, 29, 21, 45, tzinfo=<UTC>)}\n",
      "{'open_price': Decimal('237.4100'), 'close_price': Decimal('237.4800'), 'high_price': Decimal('237.5000'), 'low_price': Decimal('237.4100'), 'number_of_trades': None, 'volume': 3223, 'volume_weighted_average': None, 'time': datetime.datetime(2024, 11, 29, 21, 40, tzinfo=<UTC>)}\n",
      "{'open_price': Decimal('237.3950'), 'close_price': Decimal('237.4100'), 'high_price': Decimal('237.4700'), 'low_price': Decimal('237.3600'), 'number_of_trades': None, 'volume': 749, 'volume_weighted_average': None, 'time': datetime.datetime(2024, 11, 29, 21, 35, tzinfo=<UTC>)}\n",
      "{'open_price': Decimal('237.3600'), 'close_price': Decimal('237.3950'), 'high_price': Decimal('237.4400'), 'low_price': Decimal('237.3500'), 'number_of_trades': None, 'volume': 775, 'volume_weighted_average': None, 'time': datetime.datetime(2024, 11, 29, 21, 30, tzinfo=<UTC>)}\n",
      "{'open_price': Decimal('237.3900'), 'close_price': Decimal('237.3600'), 'high_price': Decimal('237.4800'), 'low_price': Decimal('237.3500'), 'number_of_trades': None, 'volume': 1228, 'volume_weighted_average': None, 'time': datetime.datetime(2024, 11, 29, 21, 25, tzinfo=<UTC>)}\n",
      "{'open_price': Decimal('237.3900'), 'close_price': Decimal('237.3500'), 'high_price': Decimal('237.4300'), 'low_price': Decimal('237.3500'), 'number_of_trades': None, 'volume': 1521, 'volume_weighted_average': None, 'time': datetime.datetime(2024, 11, 29, 21, 20, tzinfo=<UTC>)}\n",
      "{'open_price': Decimal('237.3850'), 'close_price': Decimal('237.3900'), 'high_price': Decimal('237.4300'), 'low_price': Decimal('237.3600'), 'number_of_trades': None, 'volume': 822, 'volume_weighted_average': None, 'time': datetime.datetime(2024, 11, 29, 21, 15, tzinfo=<UTC>)}\n",
      "{'open_price': Decimal('237.4000'), 'close_price': Decimal('237.3850'), 'high_price': Decimal('237.4300'), 'low_price': Decimal('237.3400'), 'number_of_trades': None, 'volume': 980, 'volume_weighted_average': None, 'time': datetime.datetime(2024, 11, 29, 21, 10, tzinfo=<UTC>)}\n",
      "{'open_price': Decimal('237.3500'), 'close_price': Decimal('237.3750'), 'high_price': Decimal('237.4400'), 'low_price': Decimal('237.3300'), 'number_of_trades': None, 'volume': 3033, 'volume_weighted_average': None, 'time': datetime.datetime(2024, 11, 29, 21, 5, tzinfo=<UTC>)}\n",
      "{'open_price': Decimal('237.3300'), 'close_price': Decimal('237.3300'), 'high_price': Decimal('237.4400'), 'low_price': Decimal('237.3300'), 'number_of_trades': None, 'volume': 29701, 'volume_weighted_average': None, 'time': datetime.datetime(2024, 11, 29, 21, 0, tzinfo=<UTC>)}\n",
      "{'open_price': Decimal('237.4500'), 'close_price': Decimal('237.3850'), 'high_price': Decimal('237.5000'), 'low_price': Decimal('237.3300'), 'number_of_trades': None, 'volume': 12297, 'volume_weighted_average': None, 'time': datetime.datetime(2024, 11, 29, 20, 55, tzinfo=<UTC>)}\n",
      "{'open_price': Decimal('237.3250'), 'close_price': Decimal('237.4000'), 'high_price': Decimal('237.4700'), 'low_price': Decimal('237.2200'), 'number_of_trades': None, 'volume': 4825, 'volume_weighted_average': None, 'time': datetime.datetime(2024, 11, 29, 20, 50, tzinfo=<UTC>)}\n",
      "{'open_price': Decimal('237.2200'), 'close_price': Decimal('237.2900'), 'high_price': Decimal('237.3700'), 'low_price': Decimal('237.2200'), 'number_of_trades': None, 'volume': 1638, 'volume_weighted_average': None, 'time': datetime.datetime(2024, 11, 29, 20, 45, tzinfo=<UTC>)}\n",
      "{'open_price': Decimal('237.3800'), 'close_price': Decimal('237.2950'), 'high_price': Decimal('237.4500'), 'low_price': Decimal('237.2200'), 'number_of_trades': None, 'volume': 11026, 'volume_weighted_average': None, 'time': datetime.datetime(2024, 11, 29, 20, 40, tzinfo=<UTC>)}\n",
      "{'open_price': Decimal('237.4100'), 'close_price': Decimal('237.3900'), 'high_price': Decimal('237.4700'), 'low_price': Decimal('237.3400'), 'number_of_trades': None, 'volume': 2395, 'volume_weighted_average': None, 'time': datetime.datetime(2024, 11, 29, 20, 35, tzinfo=<UTC>)}\n",
      "{'open_price': Decimal('237.4250'), 'close_price': Decimal('237.3530'), 'high_price': Decimal('237.4800'), 'low_price': Decimal('237.3400'), 'number_of_trades': None, 'volume': 1206, 'volume_weighted_average': None, 'time': datetime.datetime(2024, 11, 29, 20, 30, tzinfo=<UTC>)}\n",
      "{'open_price': Decimal('237.4450'), 'close_price': Decimal('237.4250'), 'high_price': Decimal('237.4900'), 'low_price': Decimal('237.3300'), 'number_of_trades': None, 'volume': 900, 'volume_weighted_average': None, 'time': datetime.datetime(2024, 11, 29, 20, 25, tzinfo=<UTC>)}\n",
      "{'open_price': Decimal('237.4300'), 'close_price': Decimal('237.4450'), 'high_price': Decimal('245.0148'), 'low_price': Decimal('237.4000'), 'number_of_trades': None, 'volume': 1611, 'volume_weighted_average': None, 'time': datetime.datetime(2024, 11, 29, 20, 20, tzinfo=<UTC>)}\n",
      "{'open_price': Decimal('237.4300'), 'close_price': Decimal('237.4200'), 'high_price': Decimal('245.0148'), 'low_price': Decimal('237.3300'), 'number_of_trades': None, 'volume': 1151, 'volume_weighted_average': None, 'time': datetime.datetime(2024, 11, 29, 20, 15, tzinfo=<UTC>)}\n",
      "{'open_price': Decimal('237.4300'), 'close_price': Decimal('237.4300'), 'high_price': Decimal('237.4500'), 'low_price': Decimal('230.3802'), 'number_of_trades': None, 'volume': 739, 'volume_weighted_average': None, 'time': datetime.datetime(2024, 11, 29, 20, 10, tzinfo=<UTC>)}\n",
      "{'open_price': Decimal('237.4309'), 'close_price': Decimal('237.4100'), 'high_price': Decimal('251.7307'), 'low_price': Decimal('237.4000'), 'number_of_trades': None, 'volume': 653, 'volume_weighted_average': None, 'time': datetime.datetime(2024, 11, 29, 20, 5, tzinfo=<UTC>)}\n",
      "{'open_price': Decimal('237.5000'), 'close_price': Decimal('237.4650'), 'high_price': Decimal('237.5200'), 'low_price': Decimal('230.3802'), 'number_of_trades': None, 'volume': 2099, 'volume_weighted_average': None, 'time': datetime.datetime(2024, 11, 29, 20, 0, tzinfo=<UTC>)}\n",
      "{'open_price': Decimal('237.3800'), 'close_price': Decimal('237.4500'), 'high_price': Decimal('237.5200'), 'low_price': Decimal('237.3800'), 'number_of_trades': None, 'volume': 2878, 'volume_weighted_average': None, 'time': datetime.datetime(2024, 11, 29, 19, 55, tzinfo=<UTC>)}\n",
      "{'open_price': Decimal('237.5250'), 'close_price': Decimal('237.4200'), 'high_price': Decimal('237.5300'), 'low_price': Decimal('237.3300'), 'number_of_trades': None, 'volume': 4930, 'volume_weighted_average': None, 'time': datetime.datetime(2024, 11, 29, 19, 50, tzinfo=<UTC>)}\n",
      "{'open_price': Decimal('237.5000'), 'close_price': Decimal('237.5200'), 'high_price': Decimal('237.6000'), 'low_price': Decimal('237.4600'), 'number_of_trades': None, 'volume': 2056, 'volume_weighted_average': None, 'time': datetime.datetime(2024, 11, 29, 19, 45, tzinfo=<UTC>)}\n",
      "{'open_price': Decimal('237.4800'), 'close_price': Decimal('237.5200'), 'high_price': Decimal('237.5400'), 'low_price': Decimal('237.3300'), 'number_of_trades': None, 'volume': 9558, 'volume_weighted_average': None, 'time': datetime.datetime(2024, 11, 29, 19, 40, tzinfo=<UTC>)}\n",
      "{'open_price': Decimal('237.4000'), 'close_price': Decimal('237.3300'), 'high_price': Decimal('237.5000'), 'low_price': Decimal('237.3300'), 'number_of_trades': None, 'volume': 2198, 'volume_weighted_average': None, 'time': datetime.datetime(2024, 11, 29, 19, 35, tzinfo=<UTC>)}\n",
      "{'open_price': Decimal('237.4950'), 'close_price': Decimal('237.4000'), 'high_price': Decimal('237.5000'), 'low_price': Decimal('237.3500'), 'number_of_trades': None, 'volume': 2102, 'volume_weighted_average': None, 'time': datetime.datetime(2024, 11, 29, 19, 30, tzinfo=<UTC>)}\n",
      "{'open_price': Decimal('237.5000'), 'close_price': Decimal('237.4900'), 'high_price': Decimal('237.5000'), 'low_price': Decimal('237.4900'), 'number_of_trades': None, 'volume': 1860, 'volume_weighted_average': None, 'time': datetime.datetime(2024, 11, 29, 19, 25, tzinfo=<UTC>)}\n",
      "{'open_price': Decimal('237.4800'), 'close_price': Decimal('237.4950'), 'high_price': Decimal('237.5000'), 'low_price': Decimal('237.4500'), 'number_of_trades': None, 'volume': 1796, 'volume_weighted_average': None, 'time': datetime.datetime(2024, 11, 29, 19, 20, tzinfo=<UTC>)}\n",
      "{'open_price': Decimal('237.5000'), 'close_price': Decimal('237.4850'), 'high_price': Decimal('237.5400'), 'low_price': Decimal('237.4800'), 'number_of_trades': None, 'volume': 748, 'volume_weighted_average': None, 'time': datetime.datetime(2024, 11, 29, 19, 15, tzinfo=<UTC>)}\n",
      "{'open_price': Decimal('237.5400'), 'close_price': Decimal('237.5300'), 'high_price': Decimal('237.5400'), 'low_price': Decimal('237.4700'), 'number_of_trades': None, 'volume': 4291, 'volume_weighted_average': None, 'time': datetime.datetime(2024, 11, 29, 19, 10, tzinfo=<UTC>)}\n",
      "{'open_price': Decimal('237.5150'), 'close_price': Decimal('237.5000'), 'high_price': Decimal('237.5700'), 'low_price': Decimal('237.4900'), 'number_of_trades': None, 'volume': 19955, 'volume_weighted_average': None, 'time': datetime.datetime(2024, 11, 29, 19, 5, tzinfo=<UTC>)}\n",
      "{'open_price': Decimal('237.4900'), 'close_price': Decimal('237.5300'), 'high_price': Decimal('237.5400'), 'low_price': Decimal('237.4800'), 'number_of_trades': None, 'volume': 7918, 'volume_weighted_average': None, 'time': datetime.datetime(2024, 11, 29, 19, 0, tzinfo=<UTC>)}\n",
      "{'open_price': Decimal('237.4900'), 'close_price': Decimal('237.4900'), 'high_price': Decimal('237.5200'), 'low_price': Decimal('237.4800'), 'number_of_trades': None, 'volume': 4920, 'volume_weighted_average': None, 'time': datetime.datetime(2024, 11, 29, 18, 55, tzinfo=<UTC>)}\n",
      "{'open_price': Decimal('237.5000'), 'close_price': Decimal('237.4900'), 'high_price': Decimal('237.5150'), 'low_price': Decimal('237.3300'), 'number_of_trades': None, 'volume': 8367, 'volume_weighted_average': None, 'time': datetime.datetime(2024, 11, 29, 18, 50, tzinfo=<UTC>)}\n",
      "{'open_price': Decimal('237.5000'), 'close_price': Decimal('237.4800'), 'high_price': Decimal('237.5300'), 'low_price': Decimal('237.3300'), 'number_of_trades': None, 'volume': 31768, 'volume_weighted_average': None, 'time': datetime.datetime(2024, 11, 29, 18, 45, tzinfo=<UTC>)}\n",
      "{'open_price': Decimal('237.5000'), 'close_price': Decimal('237.5000'), 'high_price': Decimal('237.5288'), 'low_price': Decimal('237.4800'), 'number_of_trades': None, 'volume': 1260, 'volume_weighted_average': None, 'time': datetime.datetime(2024, 11, 29, 18, 40, tzinfo=<UTC>)}\n",
      "{'open_price': Decimal('237.4994'), 'close_price': Decimal('237.5200'), 'high_price': Decimal('237.5300'), 'low_price': Decimal('237.3300'), 'number_of_trades': None, 'volume': 15187, 'volume_weighted_average': None, 'time': datetime.datetime(2024, 11, 29, 18, 35, tzinfo=<UTC>)}\n",
      "{'open_price': Decimal('237.4900'), 'close_price': Decimal('237.4900'), 'high_price': Decimal('237.5299'), 'low_price': Decimal('237.4700'), 'number_of_trades': None, 'volume': 3367, 'volume_weighted_average': None, 'time': datetime.datetime(2024, 11, 29, 18, 30, tzinfo=<UTC>)}\n",
      "{'open_price': Decimal('237.4800'), 'close_price': Decimal('237.4900'), 'high_price': Decimal('237.5000'), 'low_price': Decimal('237.3300'), 'number_of_trades': None, 'volume': 7008, 'volume_weighted_average': None, 'time': datetime.datetime(2024, 11, 29, 18, 25, tzinfo=<UTC>)}\n",
      "{'open_price': Decimal('237.5200'), 'close_price': Decimal('237.4999'), 'high_price': Decimal('237.5400'), 'low_price': Decimal('237.4800'), 'number_of_trades': None, 'volume': 12954, 'volume_weighted_average': None, 'time': datetime.datetime(2024, 11, 29, 18, 20, tzinfo=<UTC>)}\n",
      "{'open_price': Decimal('237.4900'), 'close_price': Decimal('237.5400'), 'high_price': Decimal('237.5400'), 'low_price': Decimal('237.3300'), 'number_of_trades': None, 'volume': 15025, 'volume_weighted_average': None, 'time': datetime.datetime(2024, 11, 29, 18, 15, tzinfo=<UTC>)}\n",
      "{'open_price': Decimal('237.5200'), 'close_price': Decimal('237.4900'), 'high_price': Decimal('237.5700'), 'low_price': Decimal('237.3300'), 'number_of_trades': None, 'volume': 481255, 'volume_weighted_average': None, 'time': datetime.datetime(2024, 11, 29, 18, 10, tzinfo=<UTC>)}\n",
      "{'open_price': Decimal('237.5600'), 'close_price': Decimal('237.5200'), 'high_price': Decimal('237.5900'), 'low_price': Decimal('237.3300'), 'number_of_trades': None, 'volume': 806766, 'volume_weighted_average': None, 'time': datetime.datetime(2024, 11, 29, 18, 5, tzinfo=<UTC>)}\n",
      "{'open_price': Decimal('237.3300'), 'close_price': Decimal('237.5400'), 'high_price': Decimal('237.9000'), 'low_price': Decimal('237.2850'), 'number_of_trades': None, 'volume': 15224696, 'volume_weighted_average': None, 'time': datetime.datetime(2024, 11, 29, 18, 0, tzinfo=<UTC>)}\n",
      "{'open_price': Decimal('237.5600'), 'close_price': Decimal('237.3400'), 'high_price': Decimal('237.5600'), 'low_price': Decimal('236.4100'), 'number_of_trades': None, 'volume': 1939889, 'volume_weighted_average': None, 'time': datetime.datetime(2024, 11, 29, 17, 55, tzinfo=<UTC>)}\n",
      "{'open_price': Decimal('236.9400'), 'close_price': Decimal('237.5487'), 'high_price': Decimal('237.8100'), 'low_price': Decimal('236.9400'), 'number_of_trades': None, 'volume': 1383473, 'volume_weighted_average': None, 'time': datetime.datetime(2024, 11, 29, 17, 50, tzinfo=<UTC>)}\n",
      "{'open_price': Decimal('236.8200'), 'close_price': Decimal('236.9400'), 'high_price': Decimal('236.9800'), 'low_price': Decimal('236.7801'), 'number_of_trades': None, 'volume': 317925, 'volume_weighted_average': None, 'time': datetime.datetime(2024, 11, 29, 17, 45, tzinfo=<UTC>)}\n",
      "{'open_price': Decimal('236.8400'), 'close_price': Decimal('236.8314'), 'high_price': Decimal('236.8900'), 'low_price': Decimal('236.6400'), 'number_of_trades': None, 'volume': 266096, 'volume_weighted_average': None, 'time': datetime.datetime(2024, 11, 29, 17, 40, tzinfo=<UTC>)}\n",
      "{'open_price': Decimal('236.6700'), 'close_price': Decimal('236.8400'), 'high_price': Decimal('236.8400'), 'low_price': Decimal('236.6511'), 'number_of_trades': None, 'volume': 294550, 'volume_weighted_average': None, 'time': datetime.datetime(2024, 11, 29, 17, 35, tzinfo=<UTC>)}\n",
      "{'open_price': Decimal('236.3700'), 'close_price': Decimal('236.6600'), 'high_price': Decimal('236.6600'), 'low_price': Decimal('236.3700'), 'number_of_trades': None, 'volume': 330421, 'volume_weighted_average': None, 'time': datetime.datetime(2024, 11, 29, 17, 30, tzinfo=<UTC>)}\n",
      "{'open_price': Decimal('236.5062'), 'close_price': Decimal('236.3600'), 'high_price': Decimal('236.6550'), 'low_price': Decimal('236.3600'), 'number_of_trades': None, 'volume': 374409, 'volume_weighted_average': None, 'time': datetime.datetime(2024, 11, 29, 17, 25, tzinfo=<UTC>)}\n",
      "{'open_price': Decimal('236.8900'), 'close_price': Decimal('236.5050'), 'high_price': Decimal('236.8900'), 'low_price': Decimal('236.4800'), 'number_of_trades': None, 'volume': 316076, 'volume_weighted_average': None, 'time': datetime.datetime(2024, 11, 29, 17, 20, tzinfo=<UTC>)}\n",
      "{'open_price': Decimal('236.9700'), 'close_price': Decimal('236.9100'), 'high_price': Decimal('236.9700'), 'low_price': Decimal('236.8300'), 'number_of_trades': None, 'volume': 239182, 'volume_weighted_average': None, 'time': datetime.datetime(2024, 11, 29, 17, 15, tzinfo=<UTC>)}\n",
      "{'open_price': Decimal('237.0800'), 'close_price': Decimal('236.9800'), 'high_price': Decimal('237.0900'), 'low_price': Decimal('236.8400'), 'number_of_trades': None, 'volume': 283708, 'volume_weighted_average': None, 'time': datetime.datetime(2024, 11, 29, 17, 10, tzinfo=<UTC>)}\n",
      "{'open_price': Decimal('236.8900'), 'close_price': Decimal('237.0800'), 'high_price': Decimal('237.1500'), 'low_price': Decimal('236.8150'), 'number_of_trades': None, 'volume': 302957, 'volume_weighted_average': None, 'time': datetime.datetime(2024, 11, 29, 17, 5, tzinfo=<UTC>)}\n",
      "{'open_price': Decimal('237.0600'), 'close_price': Decimal('236.8900'), 'high_price': Decimal('237.0600'), 'low_price': Decimal('236.7138'), 'number_of_trades': None, 'volume': 318608, 'volume_weighted_average': None, 'time': datetime.datetime(2024, 11, 29, 17, 0, tzinfo=<UTC>)}\n",
      "{'open_price': Decimal('237.0846'), 'close_price': Decimal('237.0600'), 'high_price': Decimal('237.1100'), 'low_price': Decimal('236.8814'), 'number_of_trades': None, 'volume': 349531, 'volume_weighted_average': None, 'time': datetime.datetime(2024, 11, 29, 16, 55, tzinfo=<UTC>)}\n",
      "{'open_price': Decimal('236.6900'), 'close_price': Decimal('237.0999'), 'high_price': Decimal('237.1400'), 'low_price': Decimal('236.6600'), 'number_of_trades': None, 'volume': 718268, 'volume_weighted_average': None, 'time': datetime.datetime(2024, 11, 29, 16, 50, tzinfo=<UTC>)}\n",
      "{'open_price': Decimal('236.4000'), 'close_price': Decimal('236.6899'), 'high_price': Decimal('236.6899'), 'low_price': Decimal('236.4000'), 'number_of_trades': None, 'volume': 331725, 'volume_weighted_average': None, 'time': datetime.datetime(2024, 11, 29, 16, 45, tzinfo=<UTC>)}\n",
      "{'open_price': Decimal('236.4500'), 'close_price': Decimal('236.4000'), 'high_price': Decimal('236.5000'), 'low_price': Decimal('236.2900'), 'number_of_trades': None, 'volume': 204775, 'volume_weighted_average': None, 'time': datetime.datetime(2024, 11, 29, 16, 40, tzinfo=<UTC>)}\n",
      "{'open_price': Decimal('236.3950'), 'close_price': Decimal('236.4550'), 'high_price': Decimal('236.5000'), 'low_price': Decimal('236.3300'), 'number_of_trades': None, 'volume': 182629, 'volume_weighted_average': None, 'time': datetime.datetime(2024, 11, 29, 16, 35, tzinfo=<UTC>)}\n",
      "{'open_price': Decimal('236.3800'), 'close_price': Decimal('236.3923'), 'high_price': Decimal('236.4600'), 'low_price': Decimal('236.3200'), 'number_of_trades': None, 'volume': 221203, 'volume_weighted_average': None, 'time': datetime.datetime(2024, 11, 29, 16, 30, tzinfo=<UTC>)}\n",
      "{'open_price': Decimal('236.3700'), 'close_price': Decimal('236.4000'), 'high_price': Decimal('236.4300'), 'low_price': Decimal('236.1600'), 'number_of_trades': None, 'volume': 302878, 'volume_weighted_average': None, 'time': datetime.datetime(2024, 11, 29, 16, 25, tzinfo=<UTC>)}\n",
      "{'open_price': Decimal('236.3200'), 'close_price': Decimal('236.3700'), 'high_price': Decimal('236.5999'), 'low_price': Decimal('236.3000'), 'number_of_trades': None, 'volume': 365532, 'volume_weighted_average': None, 'time': datetime.datetime(2024, 11, 29, 16, 20, tzinfo=<UTC>)}\n",
      "{'open_price': Decimal('236.3613'), 'close_price': Decimal('236.3201'), 'high_price': Decimal('236.4200'), 'low_price': Decimal('236.2150'), 'number_of_trades': None, 'volume': 309219, 'volume_weighted_average': None, 'time': datetime.datetime(2024, 11, 29, 16, 15, tzinfo=<UTC>)}\n",
      "{'open_price': Decimal('235.9100'), 'close_price': Decimal('236.3600'), 'high_price': Decimal('236.3700'), 'low_price': Decimal('235.8600'), 'number_of_trades': None, 'volume': 925886, 'volume_weighted_average': None, 'time': datetime.datetime(2024, 11, 29, 16, 10, tzinfo=<UTC>)}\n",
      "{'open_price': Decimal('235.8900'), 'close_price': Decimal('235.9150'), 'high_price': Decimal('235.9600'), 'low_price': Decimal('235.7500'), 'number_of_trades': None, 'volume': 253970, 'volume_weighted_average': None, 'time': datetime.datetime(2024, 11, 29, 16, 5, tzinfo=<UTC>)}\n",
      "{'open_price': Decimal('235.8200'), 'close_price': Decimal('235.8950'), 'high_price': Decimal('235.9150'), 'low_price': Decimal('235.7900'), 'number_of_trades': None, 'volume': 331701, 'volume_weighted_average': None, 'time': datetime.datetime(2024, 11, 29, 16, 0, tzinfo=<UTC>)}\n",
      "{'open_price': Decimal('235.5711'), 'close_price': Decimal('235.8100'), 'high_price': Decimal('235.8400'), 'low_price': Decimal('235.5711'), 'number_of_trades': None, 'volume': 238850, 'volume_weighted_average': None, 'time': datetime.datetime(2024, 11, 29, 15, 55, tzinfo=<UTC>)}\n",
      "{'open_price': Decimal('235.5000'), 'close_price': Decimal('235.5800'), 'high_price': Decimal('235.7200'), 'low_price': Decimal('235.4000'), 'number_of_trades': None, 'volume': 249975, 'volume_weighted_average': None, 'time': datetime.datetime(2024, 11, 29, 15, 50, tzinfo=<UTC>)}\n",
      "{'open_price': Decimal('235.5750'), 'close_price': Decimal('235.5117'), 'high_price': Decimal('235.7400'), 'low_price': Decimal('235.4700'), 'number_of_trades': None, 'volume': 213990, 'volume_weighted_average': None, 'time': datetime.datetime(2024, 11, 29, 15, 45, tzinfo=<UTC>)}\n",
      "{'open_price': Decimal('235.7900'), 'close_price': Decimal('235.5750'), 'high_price': Decimal('235.8200'), 'low_price': Decimal('235.5400'), 'number_of_trades': None, 'volume': 214691, 'volume_weighted_average': None, 'time': datetime.datetime(2024, 11, 29, 15, 40, tzinfo=<UTC>)}\n",
      "{'open_price': Decimal('235.6101'), 'close_price': Decimal('235.7900'), 'high_price': Decimal('235.8350'), 'low_price': Decimal('235.4950'), 'number_of_trades': None, 'volume': 294963, 'volume_weighted_average': None, 'time': datetime.datetime(2024, 11, 29, 15, 35, tzinfo=<UTC>)}\n",
      "{'open_price': Decimal('235.3500'), 'close_price': Decimal('235.6100'), 'high_price': Decimal('235.6800'), 'low_price': Decimal('235.3400'), 'number_of_trades': None, 'volume': 298406, 'volume_weighted_average': None, 'time': datetime.datetime(2024, 11, 29, 15, 30, tzinfo=<UTC>)}\n",
      "{'open_price': Decimal('235.3600'), 'close_price': Decimal('235.3450'), 'high_price': Decimal('235.3800'), 'low_price': Decimal('235.2000'), 'number_of_trades': None, 'volume': 226066, 'volume_weighted_average': None, 'time': datetime.datetime(2024, 11, 29, 15, 25, tzinfo=<UTC>)}\n",
      "{'open_price': Decimal('235.2500'), 'close_price': Decimal('235.3850'), 'high_price': Decimal('235.4199'), 'low_price': Decimal('235.1400'), 'number_of_trades': None, 'volume': 207682, 'volume_weighted_average': None, 'time': datetime.datetime(2024, 11, 29, 15, 20, tzinfo=<UTC>)}\n",
      "{'open_price': Decimal('235.5000'), 'close_price': Decimal('235.2300'), 'high_price': Decimal('235.5500'), 'low_price': Decimal('235.1800'), 'number_of_trades': None, 'volume': 278903, 'volume_weighted_average': None, 'time': datetime.datetime(2024, 11, 29, 15, 15, tzinfo=<UTC>)}\n",
      "{'open_price': Decimal('235.7304'), 'close_price': Decimal('235.5000'), 'high_price': Decimal('235.8283'), 'low_price': Decimal('235.4700'), 'number_of_trades': None, 'volume': 329926, 'volume_weighted_average': None, 'time': datetime.datetime(2024, 11, 29, 15, 10, tzinfo=<UTC>)}\n",
      "{'open_price': Decimal('235.3700'), 'close_price': Decimal('235.7300'), 'high_price': Decimal('235.8900'), 'low_price': Decimal('235.3700'), 'number_of_trades': None, 'volume': 412911, 'volume_weighted_average': None, 'time': datetime.datetime(2024, 11, 29, 15, 5, tzinfo=<UTC>)}\n",
      "{'open_price': Decimal('235.6300'), 'close_price': Decimal('235.3700'), 'high_price': Decimal('235.7900'), 'low_price': Decimal('235.2900'), 'number_of_trades': None, 'volume': 420479, 'volume_weighted_average': None, 'time': datetime.datetime(2024, 11, 29, 15, 0, tzinfo=<UTC>)}\n",
      "{'open_price': Decimal('235.5100'), 'close_price': Decimal('235.6400'), 'high_price': Decimal('235.6900'), 'low_price': Decimal('235.4100'), 'number_of_trades': None, 'volume': 361655, 'volume_weighted_average': None, 'time': datetime.datetime(2024, 11, 29, 14, 55, tzinfo=<UTC>)}\n",
      "{'open_price': Decimal('235.1400'), 'close_price': Decimal('235.5066'), 'high_price': Decimal('235.5200'), 'low_price': Decimal('235.0800'), 'number_of_trades': None, 'volume': 273288, 'volume_weighted_average': None, 'time': datetime.datetime(2024, 11, 29, 14, 50, tzinfo=<UTC>)}\n",
      "{'open_price': Decimal('235.3800'), 'close_price': Decimal('235.1400'), 'high_price': Decimal('235.6100'), 'low_price': Decimal('235.0500'), 'number_of_trades': None, 'volume': 360456, 'volume_weighted_average': None, 'time': datetime.datetime(2024, 11, 29, 14, 45, tzinfo=<UTC>)}\n",
      "{'open_price': Decimal('235.3650'), 'close_price': Decimal('235.3800'), 'high_price': Decimal('235.6450'), 'low_price': Decimal('235.2900'), 'number_of_trades': None, 'volume': 486986, 'volume_weighted_average': None, 'time': datetime.datetime(2024, 11, 29, 14, 40, tzinfo=<UTC>)}\n",
      "{'open_price': Decimal('234.6500'), 'close_price': Decimal('235.3800'), 'high_price': Decimal('235.3800'), 'low_price': Decimal('234.5750'), 'number_of_trades': None, 'volume': 621616, 'volume_weighted_average': None, 'time': datetime.datetime(2024, 11, 29, 14, 35, tzinfo=<UTC>)}\n",
      "{'open_price': Decimal('234.8050'), 'close_price': Decimal('234.6700'), 'high_price': Decimal('235.0000'), 'low_price': Decimal('233.9700'), 'number_of_trades': None, 'volume': 1304901, 'volume_weighted_average': None, 'time': datetime.datetime(2024, 11, 29, 14, 30, tzinfo=<UTC>)}\n",
      "{'open_price': Decimal('234.5100'), 'close_price': Decimal('234.7400'), 'high_price': Decimal('234.9100'), 'low_price': Decimal('234.1100'), 'number_of_trades': None, 'volume': 63035, 'volume_weighted_average': None, 'time': datetime.datetime(2024, 11, 29, 14, 25, tzinfo=<UTC>)}\n",
      "{'open_price': Decimal('234.7000'), 'close_price': Decimal('234.5200'), 'high_price': Decimal('234.8550'), 'low_price': Decimal('234.4900'), 'number_of_trades': None, 'volume': 9396, 'volume_weighted_average': None, 'time': datetime.datetime(2024, 11, 29, 14, 20, tzinfo=<UTC>)}\n",
      "{'open_price': Decimal('234.7050'), 'close_price': Decimal('234.6650'), 'high_price': Decimal('234.7400'), 'low_price': Decimal('234.5200'), 'number_of_trades': None, 'volume': 3440, 'volume_weighted_average': None, 'time': datetime.datetime(2024, 11, 29, 14, 15, tzinfo=<UTC>)}\n",
      "{'open_price': Decimal('234.6550'), 'close_price': Decimal('234.7000'), 'high_price': Decimal('234.7500'), 'low_price': Decimal('234.5800'), 'number_of_trades': None, 'volume': 6394, 'volume_weighted_average': None, 'time': datetime.datetime(2024, 11, 29, 14, 10, tzinfo=<UTC>)}\n",
      "{'open_price': Decimal('234.6700'), 'close_price': Decimal('234.6200'), 'high_price': Decimal('234.7300'), 'low_price': Decimal('234.5300'), 'number_of_trades': None, 'volume': 5574, 'volume_weighted_average': None, 'time': datetime.datetime(2024, 11, 29, 14, 5, tzinfo=<UTC>)}\n",
      "{'open_price': Decimal('234.3500'), 'close_price': Decimal('234.6700'), 'high_price': Decimal('234.7399'), 'low_price': Decimal('234.3500'), 'number_of_trades': None, 'volume': 12817, 'volume_weighted_average': None, 'time': datetime.datetime(2024, 11, 29, 14, 0, tzinfo=<UTC>)}\n",
      "{'open_price': Decimal('234.3900'), 'close_price': Decimal('234.3550'), 'high_price': Decimal('234.4000'), 'low_price': Decimal('234.3000'), 'number_of_trades': None, 'volume': 7514, 'volume_weighted_average': None, 'time': datetime.datetime(2024, 11, 29, 13, 55, tzinfo=<UTC>)}\n",
      "{'open_price': Decimal('234.3800'), 'close_price': Decimal('234.3900'), 'high_price': Decimal('234.5000'), 'low_price': Decimal('234.3000'), 'number_of_trades': None, 'volume': 5403, 'volume_weighted_average': None, 'time': datetime.datetime(2024, 11, 29, 13, 50, tzinfo=<UTC>)}\n",
      "{'open_price': Decimal('234.4450'), 'close_price': Decimal('234.4000'), 'high_price': Decimal('234.5700'), 'low_price': Decimal('234.3400'), 'number_of_trades': None, 'volume': 7609, 'volume_weighted_average': None, 'time': datetime.datetime(2024, 11, 29, 13, 45, tzinfo=<UTC>)}\n",
      "{'open_price': Decimal('234.5050'), 'close_price': Decimal('234.4500'), 'high_price': Decimal('234.6400'), 'low_price': Decimal('234.3300'), 'number_of_trades': None, 'volume': 4812, 'volume_weighted_average': None, 'time': datetime.datetime(2024, 11, 29, 13, 40, tzinfo=<UTC>)}\n"
     ]
    }
   ],
   "source": [
    "for timestamp_str in results.keys():\n",
    "    new_data = transform_alpha_vantage_result(timestamp_str, results.get(timestamp_str))\n",
    "    print(new_data)"
   ]
  },
  {
   "cell_type": "code",
   "execution_count": null,
   "id": "a6ac62cd-d555-4553-8f7a-1be948e55172",
   "metadata": {},
   "outputs": [],
   "source": []
  }
 ],
 "metadata": {
  "kernelspec": {
   "display_name": "Python 3 (ipykernel)",
   "language": "python",
   "name": "python3"
  },
  "language_info": {
   "codemirror_mode": {
    "name": "ipython",
    "version": 3
   },
   "file_extension": ".py",
   "mimetype": "text/x-python",
   "name": "python",
   "nbconvert_exporter": "python",
   "pygments_lexer": "ipython3",
   "version": "3.12.7"
  }
 },
 "nbformat": 4,
 "nbformat_minor": 5
}
